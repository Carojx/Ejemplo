{
  "nbformat": 4,
  "nbformat_minor": 0,
  "metadata": {
    "colab": {
      "provenance": []
    },
    "kernelspec": {
      "name": "python3",
      "display_name": "Python 3"
    },
    "language_info": {
      "name": "python"
    }
  },
  "cells": [
    {
      "cell_type": "code",
      "execution_count": null,
      "metadata": {
        "id": "bK9oozlZCJZS"
      },
      "outputs": [],
      "source": [
        "import numpy as np\n",
        "import matplotlib.pyplot as plt\n",
        "# Parámetros de la portadora\n",
        "frecuencia_portadora = 70 # Frecuencia de la portadora en Hz\n",
        "amplitud_portadora = 1 # Amplitud de la portadora\n",
        "t = np.linspace(0, 1.5, 1500) # Tiempo de simulación\n",
        "portadora = amplitud_portadora * np.cos(2 * np.pi * frecuencia_portadora *\n",
        "t)\n",
        "# Visualizar la señal portadora\n",
        "plt.figure(figsize=(10, 4))\n",
        "plt.plot(t, portadora, label='Señal Portadora')\n",
        "plt.title('Señal Portadora')\n",
        "plt.xlabel('Tiempo [s]')\n",
        "plt.ylabel('Amplitud')\n",
        "plt.legend(loc='upper right')\n",
        "plt.grid(True)\n",
        "plt.show()"
      ]
    },
    {
      "cell_type": "code",
      "source": [
        "# Parámetros de la señal de información (Diego Romero)\n",
        "frecuencia_informacion = 12 # Frecuencia de la señal de información en Hz\n",
        "amplitud_informacion = 0.5 # Amplitud de la señal de información\n",
        "# Señal de información\n",
        "informacion = amplitud_informacion * np.sin(2 * np.pi *\n",
        "frecuencia_informacion * t)\n",
        "# Visualizar la señal de información\n",
        "plt.figure(figsize=(10, 4))\n",
        "plt.plot(t, informacion, label='Señal de Información', color='r')\n",
        "plt.title('Señal de Información')\n",
        "plt.xlabel('Tiempo [s]')\n",
        "plt.ylabel('Amplitud')\n",
        "plt.legend(loc='upper right')\n",
        "plt.grid(True)\n",
        "plt.show()"
      ],
      "metadata": {
        "id": "GxcJ72cNIRHV"
      },
      "execution_count": null,
      "outputs": []
    },
    {
      "cell_type": "code",
      "source": [
        "# Modulación AM: combinación de la portadora y la señal de información (Carlos Andres Casas)\n",
        "modulada = (1 + informacion) * portadora # Fórmula de modulación AM\n",
        "# Visualizar la señal modulada\n",
        "plt.figure(figsize=(10, 4))\n",
        "plt.plot(t, modulada, label='Señal Modulda AM', color='g')\n",
        "plt.title('Señal Modulda AM')\n",
        "plt.xlabel('Tiempo [s]')\n",
        "plt.ylabel('Amplitud')\n",
        "plt.legend(loc='upper right')\n",
        "plt.grid(True)\n",
        "plt.show()"
      ],
      "metadata": {
        "id": "H2cWm4fROICc"
      },
      "execution_count": null,
      "outputs": []
    }
  ]
}